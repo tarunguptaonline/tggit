{
    "cells": [
        {
            "metadata": {
                "collapsed": true
            },
            "cell_type": "markdown",
            "source": "# Early Diaries with Python"
        },
        {
            "metadata": {},
            "cell_type": "markdown",
            "source": "### Create a Dictionary"
        },
        {
            "metadata": {},
            "cell_type": "code",
            "source": "Dict = {\"key1\": 1, \"key2\": \"2\", \"key3\": [3, 3, 3], \"key4\": (4, 4, 4), ('key5'): 5, (0, 1): 6}\nDict\n\n# Access to the value by the key\n\nDict[\"key1\"]",
            "execution_count": 41,
            "outputs": [
                {
                    "output_type": "execute_result",
                    "execution_count": 41,
                    "data": {
                        "text/plain": "1"
                    },
                    "metadata": {}
                }
            ]
        },
        {
            "metadata": {},
            "cell_type": "code",
            "source": "release_year_dict = {\"Thriller\": \"1982\", \"Back in Black\": \"1980\", \\\n                    \"The Dark Side of the Moon\": \"1973\", \"The Bodyguard\": \"1992\", \\\n                    \"Bat Out of Hell\": \"1977\", \"Their Greatest Hits (1971-1975)\": \"1976\", \\\n                    \"Saturday Night Fever\": \"1977\", \"Rumours\": \"1977\"}\nrelease_year_dict",
            "execution_count": 42,
            "outputs": [
                {
                    "output_type": "execute_result",
                    "execution_count": 42,
                    "data": {
                        "text/plain": "{'Thriller': '1982',\n 'Back in Black': '1980',\n 'The Dark Side of the Moon': '1973',\n 'The Bodyguard': '1992',\n 'Bat Out of Hell': '1977',\n 'Their Greatest Hits (1971-1975)': '1976',\n 'Saturday Night Fever': '1977',\n 'Rumours': '1977'}"
                    },
                    "metadata": {}
                }
            ]
        },
        {
            "metadata": {},
            "cell_type": "code",
            "source": "album_sales_dict = {\"The Bodyguard\":50, \"Back in Black\":50, \"Thriller\":65}\n>>> album_sales_dict[\"Thriller\"]\n65\n>>> album_sales_dict.keys()\n",
            "execution_count": 43,
            "outputs": [
                {
                    "output_type": "execute_result",
                    "execution_count": 43,
                    "data": {
                        "text/plain": "dict_keys(['The Bodyguard', 'Back in Black', 'Thriller'])"
                    },
                    "metadata": {}
                }
            ]
        },
        {
            "metadata": {},
            "cell_type": "code",
            "source": "album_sales_dict = {\"The Bodyguard\":50, \"Back in Black\":50, \"Thriller\":65}\n>>> album_sales_dict.values()",
            "execution_count": 44,
            "outputs": [
                {
                    "output_type": "execute_result",
                    "execution_count": 44,
                    "data": {
                        "text/plain": "dict_values([50, 50, 65])"
                    },
                    "metadata": {}
                }
            ]
        },
        {
            "metadata": {},
            "cell_type": "code",
            "source": "album_sales_dict = {\"The Bodyguard\":50, \"Back in Black\":50, \"Thriller\":65}\n>>> album_sales_dict[\"Thriller\"]\n",
            "execution_count": 45,
            "outputs": [
                {
                    "output_type": "execute_result",
                    "execution_count": 45,
                    "data": {
                        "text/plain": "65"
                    },
                    "metadata": {}
                }
            ]
        },
        {
            "metadata": {},
            "cell_type": "markdown",
            "source": "### Proof that Lists are mutable, Tuples are not"
        },
        {
            "metadata": {},
            "cell_type": "code",
            "source": "# a new tuple will be constructed by adding two tuples together as arguments. The original tuple will not be modified. Check this out:\n\nx = (1,2)\ny = x\nx += (3,)\nx",
            "execution_count": 46,
            "outputs": [
                {
                    "output_type": "execute_result",
                    "execution_count": 46,
                    "data": {
                        "text/plain": "(1, 2, 3)"
                    },
                    "metadata": {}
                }
            ]
        },
        {
            "metadata": {},
            "cell_type": "code",
            "source": "x = (1,2)\ny = x\nx += (3,)\ny",
            "execution_count": 47,
            "outputs": [
                {
                    "output_type": "execute_result",
                    "execution_count": 47,
                    "data": {
                        "text/plain": "(1, 2)"
                    },
                    "metadata": {}
                }
            ]
        },
        {
            "metadata": {},
            "cell_type": "code",
            "source": "# if you were to construct this same example with a list, y would also be updated:\n\nx = [1,2]\ny = x\nx += (3,)\nx",
            "execution_count": 48,
            "outputs": [
                {
                    "output_type": "execute_result",
                    "execution_count": 48,
                    "data": {
                        "text/plain": "[1, 2, 3]"
                    },
                    "metadata": {}
                }
            ]
        },
        {
            "metadata": {},
            "cell_type": "code",
            "source": "x = [1,2]\ny = x\nx += (3,)\ny",
            "execution_count": 49,
            "outputs": [
                {
                    "output_type": "execute_result",
                    "execution_count": 49,
                    "data": {
                        "text/plain": "[1, 2, 3]"
                    },
                    "metadata": {}
                }
            ]
        },
        {
            "metadata": {},
            "cell_type": "markdown",
            "source": "### And that Tuples are hashable, Lists are not"
        },
        {
            "metadata": {},
            "cell_type": "code",
            "source": "# tuple is hashable\n\nx = (1,2)\ny = [1,2]\nz = {}\nz[x] = 3\nz",
            "execution_count": 50,
            "outputs": [
                {
                    "output_type": "execute_result",
                    "execution_count": 50,
                    "data": {
                        "text/plain": "{(1, 2): 3}"
                    },
                    "metadata": {}
                }
            ]
        },
        {
            "metadata": {},
            "cell_type": "code",
            "source": "# lists are not (hashable)\n\nx = (1,2)\ny = [1,2]\nz = {}\nz[y] = 3\nz",
            "execution_count": 51,
            "outputs": [
                {
                    "output_type": "error",
                    "ename": "TypeError",
                    "evalue": "unhashable type: 'list'",
                    "traceback": [
                        "\u001b[0;31m---------------------------------------------------------------------------\u001b[0m",
                        "\u001b[0;31mTypeError\u001b[0m                                 Traceback (most recent call last)",
                        "\u001b[0;32m<ipython-input-51-723389774c33>\u001b[0m in \u001b[0;36m<module>\u001b[0;34m\u001b[0m\n\u001b[1;32m      4\u001b[0m \u001b[0my\u001b[0m \u001b[0;34m=\u001b[0m \u001b[0;34m[\u001b[0m\u001b[0;36m1\u001b[0m\u001b[0;34m,\u001b[0m\u001b[0;36m2\u001b[0m\u001b[0;34m]\u001b[0m\u001b[0;34m\u001b[0m\u001b[0;34m\u001b[0m\u001b[0m\n\u001b[1;32m      5\u001b[0m \u001b[0mz\u001b[0m \u001b[0;34m=\u001b[0m \u001b[0;34m{\u001b[0m\u001b[0;34m}\u001b[0m\u001b[0;34m\u001b[0m\u001b[0;34m\u001b[0m\u001b[0m\n\u001b[0;32m----> 6\u001b[0;31m \u001b[0mz\u001b[0m\u001b[0;34m[\u001b[0m\u001b[0my\u001b[0m\u001b[0;34m]\u001b[0m \u001b[0;34m=\u001b[0m \u001b[0;36m3\u001b[0m\u001b[0;34m\u001b[0m\u001b[0;34m\u001b[0m\u001b[0m\n\u001b[0m\u001b[1;32m      7\u001b[0m \u001b[0mz\u001b[0m\u001b[0;34m\u001b[0m\u001b[0;34m\u001b[0m\u001b[0m\n",
                        "\u001b[0;31mTypeError\u001b[0m: unhashable type: 'list'"
                    ]
                }
            ]
        },
        {
            "metadata": {},
            "cell_type": "markdown",
            "source": "### Sets in Python"
        },
        {
            "metadata": {},
            "cell_type": "code",
            "source": "# Create a set\n\nset1 = {\"pop\", \"rock\", \"soul\", \"hard rock\", \"rock\", \"R&B\", \"rock\", \"disco\"}\nset1",
            "execution_count": 52,
            "outputs": [
                {
                    "output_type": "execute_result",
                    "execution_count": 52,
                    "data": {
                        "text/plain": "{'R&B', 'disco', 'hard rock', 'pop', 'rock', 'soul'}"
                    },
                    "metadata": {}
                }
            ]
        },
        {
            "metadata": {},
            "cell_type": "code",
            "source": "# Convert list to set\n\nalbum_list = [ \"Michael Jackson\", \"Thriller\", 1982, \"00:42:19\", \\\n              \"Pop, Rock, R&B\", 46.0, 65, \"30-Nov-82\", None, 10.0]\nalbum_set = set(album_list)             \nalbum_set",
            "execution_count": 53,
            "outputs": [
                {
                    "output_type": "execute_result",
                    "execution_count": 53,
                    "data": {
                        "text/plain": "{'00:42:19',\n 10.0,\n 1982,\n '30-Nov-82',\n 46.0,\n 65,\n 'Michael Jackson',\n None,\n 'Pop, Rock, R&B',\n 'Thriller'}"
                    },
                    "metadata": {}
                }
            ]
        },
        {
            "metadata": {},
            "cell_type": "code",
            "source": "# Convert list to set\n\nmusic_genres = set([\"pop\", \"pop\", \"rock\", \"folk rock\", \"hard rock\", \"soul\", \\\n                    \"progressive rock\", \"soft rock\", \"R&B\", \"disco\"])\nmusic_genres",
            "execution_count": 54,
            "outputs": [
                {
                    "output_type": "execute_result",
                    "execution_count": 54,
                    "data": {
                        "text/plain": "{'R&B',\n 'disco',\n 'folk rock',\n 'hard rock',\n 'pop',\n 'progressive rock',\n 'rock',\n 'soft rock',\n 'soul'}"
                    },
                    "metadata": {}
                }
            ]
        },
        {
            "metadata": {},
            "cell_type": "code",
            "source": "music_genres.add(\"Country\")",
            "execution_count": 55,
            "outputs": []
        },
        {
            "metadata": {},
            "cell_type": "code",
            "source": "music_genres",
            "execution_count": 56,
            "outputs": [
                {
                    "output_type": "execute_result",
                    "execution_count": 56,
                    "data": {
                        "text/plain": "{'Country',\n 'R&B',\n 'disco',\n 'folk rock',\n 'hard rock',\n 'pop',\n 'progressive rock',\n 'rock',\n 'soft rock',\n 'soul'}"
                    },
                    "metadata": {}
                }
            ]
        },
        {
            "metadata": {},
            "cell_type": "code",
            "source": "music_genres.add(\"Country\")\nmusic_genres",
            "execution_count": 57,
            "outputs": [
                {
                    "output_type": "execute_result",
                    "execution_count": 57,
                    "data": {
                        "text/plain": "{'Country',\n 'R&B',\n 'disco',\n 'folk rock',\n 'hard rock',\n 'pop',\n 'progressive rock',\n 'rock',\n 'soft rock',\n 'soul'}"
                    },
                    "metadata": {}
                }
            ]
        },
        {
            "metadata": {},
            "cell_type": "code",
            "source": "music_genres.remove(\"soul\")\nmusic_genres",
            "execution_count": 58,
            "outputs": [
                {
                    "output_type": "execute_result",
                    "execution_count": 58,
                    "data": {
                        "text/plain": "{'Country',\n 'R&B',\n 'disco',\n 'folk rock',\n 'hard rock',\n 'pop',\n 'progressive rock',\n 'rock',\n 'soft rock'}"
                    },
                    "metadata": {}
                }
            ]
        },
        {
            "metadata": {},
            "cell_type": "code",
            "source": "\"soul\" in music_genres",
            "execution_count": 59,
            "outputs": [
                {
                    "output_type": "execute_result",
                    "execution_count": 59,
                    "data": {
                        "text/plain": "False"
                    },
                    "metadata": {}
                }
            ]
        },
        {
            "metadata": {},
            "cell_type": "code",
            "source": "\"rock\" in music_genres",
            "execution_count": 60,
            "outputs": [
                {
                    "output_type": "execute_result",
                    "execution_count": 60,
                    "data": {
                        "text/plain": "True"
                    },
                    "metadata": {}
                }
            ]
        },
        {
            "metadata": {},
            "cell_type": "code",
            "source": "# Sample Sets\n\nalbum_set1 = set([\"Thriller\", 'AC/DC', 'Back in Black'])\nalbum_set2 = set([ \"AC/DC\", \"Back in Black\", \"The Dark Side of the Moon\"])",
            "execution_count": 61,
            "outputs": []
        },
        {
            "metadata": {},
            "cell_type": "code",
            "source": "# Find the union of two sets\n\nalbum_set1.union(album_set2)",
            "execution_count": 62,
            "outputs": [
                {
                    "output_type": "execute_result",
                    "execution_count": 62,
                    "data": {
                        "text/plain": "{'AC/DC', 'Back in Black', 'The Dark Side of the Moon', 'Thriller'}"
                    },
                    "metadata": {}
                }
            ]
        },
        {
            "metadata": {},
            "cell_type": "code",
            "source": "# Print two sets\n\nalbum_set1, album_set2",
            "execution_count": 63,
            "outputs": [
                {
                    "output_type": "execute_result",
                    "execution_count": 63,
                    "data": {
                        "text/plain": "({'AC/DC', 'Back in Black', 'Thriller'},\n {'AC/DC', 'Back in Black', 'The Dark Side of the Moon'})"
                    },
                    "metadata": {}
                }
            ]
        },
        {
            "metadata": {},
            "cell_type": "code",
            "source": "# Find the intersections\n\nintersection = album_set1 & album_set2\nintersection",
            "execution_count": 64,
            "outputs": [
                {
                    "output_type": "execute_result",
                    "execution_count": 64,
                    "data": {
                        "text/plain": "{'AC/DC', 'Back in Black'}"
                    },
                    "metadata": {}
                }
            ]
        },
        {
            "metadata": {},
            "cell_type": "code",
            "source": "# Find the difference in set1 but not set2\n\nalbum_set1.difference(album_set2)",
            "execution_count": 65,
            "outputs": [
                {
                    "output_type": "execute_result",
                    "execution_count": 65,
                    "data": {
                        "text/plain": "{'Thriller'}"
                    },
                    "metadata": {}
                }
            ]
        },
        {
            "metadata": {},
            "cell_type": "code",
            "source": "# Check if superset\n\nset(album_set1).issuperset(album_set2)   ",
            "execution_count": 66,
            "outputs": [
                {
                    "output_type": "execute_result",
                    "execution_count": 66,
                    "data": {
                        "text/plain": "False"
                    },
                    "metadata": {}
                }
            ]
        },
        {
            "metadata": {},
            "cell_type": "code",
            "source": "# Check if superset\n\nset(album_set2).issuperset(album_set1)   ",
            "execution_count": 67,
            "outputs": [
                {
                    "output_type": "execute_result",
                    "execution_count": 67,
                    "data": {
                        "text/plain": "False"
                    },
                    "metadata": {}
                }
            ]
        },
        {
            "metadata": {},
            "cell_type": "code",
            "source": "# Check if subset\n\nset(album_set2).issubset(album_set1)     ",
            "execution_count": 68,
            "outputs": [
                {
                    "output_type": "execute_result",
                    "execution_count": 68,
                    "data": {
                        "text/plain": "False"
                    },
                    "metadata": {}
                }
            ]
        },
        {
            "metadata": {},
            "cell_type": "code",
            "source": "# Check if subset\n\nset(album_set1).issubset(album_set2)     ",
            "execution_count": 69,
            "outputs": [
                {
                    "output_type": "execute_result",
                    "execution_count": 69,
                    "data": {
                        "text/plain": "False"
                    },
                    "metadata": {}
                }
            ]
        },
        {
            "metadata": {},
            "cell_type": "code",
            "source": "# Check if subset\n\nset({\"Back in Black\", \"AC/DC\"}).issubset(album_set1) ",
            "execution_count": 70,
            "outputs": [
                {
                    "output_type": "execute_result",
                    "execution_count": 70,
                    "data": {
                        "text/plain": "True"
                    },
                    "metadata": {}
                }
            ]
        },
        {
            "metadata": {},
            "cell_type": "code",
            "source": "fav_music = ['rap','house','electronic music', 'rap']",
            "execution_count": 71,
            "outputs": []
        },
        {
            "metadata": {},
            "cell_type": "code",
            "source": "set(fav_music)",
            "execution_count": 72,
            "outputs": [
                {
                    "output_type": "execute_result",
                    "execution_count": 72,
                    "data": {
                        "text/plain": "{'electronic music', 'house', 'rap'}"
                    },
                    "metadata": {}
                }
            ]
        },
        {
            "metadata": {},
            "cell_type": "code",
            "source": "A = [1, 2, 2, 1]",
            "execution_count": 73,
            "outputs": []
        },
        {
            "metadata": {},
            "cell_type": "code",
            "source": "B = [1, 2, 2, 1]",
            "execution_count": 74,
            "outputs": []
        },
        {
            "metadata": {
                "scrolled": true
            },
            "cell_type": "code",
            "source": "set(A)",
            "execution_count": 75,
            "outputs": [
                {
                    "output_type": "execute_result",
                    "execution_count": 75,
                    "data": {
                        "text/plain": "{1, 2}"
                    },
                    "metadata": {}
                }
            ]
        },
        {
            "metadata": {},
            "cell_type": "code",
            "source": "set(B)",
            "execution_count": 76,
            "outputs": [
                {
                    "output_type": "execute_result",
                    "execution_count": 76,
                    "data": {
                        "text/plain": "{1, 2}"
                    },
                    "metadata": {}
                }
            ]
        },
        {
            "metadata": {},
            "cell_type": "code",
            "source": "sum(B)",
            "execution_count": 77,
            "outputs": [
                {
                    "output_type": "execute_result",
                    "execution_count": 77,
                    "data": {
                        "text/plain": "6"
                    },
                    "metadata": {}
                }
            ]
        },
        {
            "metadata": {},
            "cell_type": "code",
            "source": "sum(A)",
            "execution_count": 78,
            "outputs": [
                {
                    "output_type": "execute_result",
                    "execution_count": 78,
                    "data": {
                        "text/plain": "6"
                    },
                    "metadata": {}
                }
            ]
        },
        {
            "metadata": {},
            "cell_type": "code",
            "source": "#sum of A is equal to sum of B",
            "execution_count": 79,
            "outputs": []
        },
        {
            "metadata": {},
            "cell_type": "markdown",
            "source": "### If, then, else (elif) and everything else!"
        },
        {
            "metadata": {},
            "cell_type": "code",
            "source": "# If statements\n\nage = 19\n\nif age > 18:\n    \n        print(\"you can enter\" )\n\nprint(\"move on\")",
            "execution_count": 1,
            "outputs": [
                {
                    "output_type": "stream",
                    "text": "you can enter\nmove on\n",
                    "name": "stdout"
                }
            ]
        },
        {
            "metadata": {},
            "cell_type": "code",
            "source": "age = 17\nif age > 19:\n        print(\"you can enter\")\nprint(\"move on\")",
            "execution_count": 3,
            "outputs": [
                {
                    "output_type": "stream",
                    "text": "move on\n",
                    "name": "stdout"
                }
            ]
        },
        {
            "metadata": {},
            "cell_type": "code",
            "source": "age = 18\n\nif age > 18:\n    print(\"you can enter\" )\nelse:\n    print(\"go see Meat Loaf\" )\n    \nprint(\"move on\")",
            "execution_count": 4,
            "outputs": [
                {
                    "output_type": "stream",
                    "text": "go see Meat Loaf\nmove on\n",
                    "name": "stdout"
                }
            ]
        },
        {
            "metadata": {},
            "cell_type": "code",
            "source": "# if and else\n\nage = 20\n\nif age > 18:\n    print(\"you can enter\" )\nelse:\n    print(\"go see Meat Loaf\" )\n    \nprint(\"move on\")",
            "execution_count": 5,
            "outputs": [
                {
                    "output_type": "stream",
                    "text": "you can enter\nmove on\n",
                    "name": "stdout"
                }
            ]
        },
        {
            "metadata": {},
            "cell_type": "code",
            "source": "# Elif statment example\n\nage = 18\n\nif age > 18:\n    print(\"you can enter\" )\nelif age == 18:\n    print(\"go see Pink Floyd\")\nelse:\n    print(\"go see Meat Loaf\" )\n    \nprint(\"move on\")",
            "execution_count": 6,
            "outputs": [
                {
                    "output_type": "stream",
                    "text": "go see Pink Floyd\nmove on\n",
                    "name": "stdout"
                }
            ]
        },
        {
            "metadata": {},
            "cell_type": "code",
            "source": "age = 17\n\nif age > 18:\n    print(\"you can enter\" )\nelif age == 18:\n    print(\"go see Pink Floyd\")\nelse:\n    print(\"go see Meat Loaf\" )\n    \nprint(\"move on\")",
            "execution_count": 7,
            "outputs": [
                {
                    "output_type": "stream",
                    "text": "go see Meat Loaf\nmove on\n",
                    "name": "stdout"
                }
            ]
        },
        {
            "metadata": {},
            "cell_type": "code",
            "source": "age = 20\n\nif age > 18:\n    print(\"you can enter\" )\nelif age == 18:\n    print(\"go see Pink Floyd\")\nelse:\n    print(\"go see Meat Loaf\" )\n    \nprint(\"move on\")",
            "execution_count": 8,
            "outputs": [
                {
                    "output_type": "stream",
                    "text": "you can enter\nmove on\n",
                    "name": "stdout"
                }
            ]
        },
        {
            "metadata": {},
            "cell_type": "code",
            "source": "# Condition statement\n\nalbum_year = 1983\nalbum_year = 1970\n\nif album_year > 1980:\n    print(\"Album year is greater than 1980\")\n    \nprint('do something..')",
            "execution_count": 9,
            "outputs": [
                {
                    "output_type": "stream",
                    "text": "do something..\n",
                    "name": "stdout"
                }
            ]
        },
        {
            "metadata": {},
            "cell_type": "code",
            "source": "# Condition statement\n\nalbum_year = 1979\nalbum_year = 1986\n\nif album_year > 1980:\n    print(\"Album year is greater than 1980\")\n    \nprint('do something..')",
            "execution_count": 10,
            "outputs": [
                {
                    "output_type": "stream",
                    "text": "Album year is greater than 1980\ndo something..\n",
                    "name": "stdout"
                }
            ]
        },
        {
            "metadata": {},
            "cell_type": "code",
            "source": "# Condition statement\n\nalbum_year = 1986\n\nif album_year > 1980:\n    print(\"Album year is greater than 1980\")\n    \nprint('do something..')",
            "execution_count": 11,
            "outputs": [
                {
                    "output_type": "stream",
                    "text": "Album year is greater than 1980\ndo something..\n",
                    "name": "stdout"
                }
            ]
        },
        {
            "metadata": {},
            "cell_type": "code",
            "source": "# Condition statement with else\n\nalbum_year = 1983\n\nif album_year > 1980:\n    print(\"Album year is greater than 1980\")\nelse:\n    print(\"less than 1980\")\n\nprint('do something..')",
            "execution_count": 12,
            "outputs": [
                {
                    "output_type": "stream",
                    "text": "Album year is greater than 1980\ndo something..\n",
                    "name": "stdout"
                }
            ]
        },
        {
            "metadata": {},
            "cell_type": "code",
            "source": "album_year = 1979\n\nif album_year > 1980:\n    print(\"Album year is greater than 1980\")\nelse:\n    print(\"less than 1980\")\n\nprint('do something..')",
            "execution_count": 13,
            "outputs": [
                {
                    "output_type": "stream",
                    "text": "less than 1980\ndo something..\n",
                    "name": "stdout"
                }
            ]
        },
        {
            "metadata": {},
            "cell_type": "code",
            "source": "# Condition statement with Boolean\n\nalbum_year = 1980\n\nif(album_year > 1979) and (album_year < 1990):\n    print (\"Album year was in between 1980 and 1989\")\n    \nprint(\"\")\nprint(\"Do Stuff..\")",
            "execution_count": 14,
            "outputs": [
                {
                    "output_type": "stream",
                    "text": "Album year was in between 1980 and 1989\n\nDo Stuff..\n",
                    "name": "stdout"
                }
            ]
        },
        {
            "metadata": {},
            "cell_type": "code",
            "source": "# Condition statement example\n\nalbum_year = 1990\n\nif(album_year < 1980) or (album_year > 1989):\n    print (\"Album was not made in the 1980's\")\nelse:\n    print(\"The Album was made in the 1980's \")",
            "execution_count": 15,
            "outputs": [
                {
                    "output_type": "stream",
                    "text": "Album was not made in the 1980's\n",
                    "name": "stdout"
                }
            ]
        },
        {
            "metadata": {},
            "cell_type": "code",
            "source": "# Condition statement example\n\nalbum_year = 1983\n\nif not (album_year == '1984'):\n    print (\"Album year is not 1984\")",
            "execution_count": 17,
            "outputs": [
                {
                    "output_type": "stream",
                    "text": "Album year is not 1984\n",
                    "name": "stdout"
                }
            ]
        },
        {
            "metadata": {},
            "cell_type": "code",
            "source": "album_rating = 8.5\nif album_rating > 8:\n        print (\"This album is Amazing!\")\nelse:\n    print(\"This album is ok\")",
            "execution_count": 20,
            "outputs": [
                {
                    "output_type": "stream",
                    "text": "This album is Amazing!\n",
                    "name": "stdout"
                }
            ]
        },
        {
            "metadata": {},
            "cell_type": "code",
            "source": "album_rating = 7.9\nif album_rating > 8:\n        print (\"This album is Amazing!\")\nelse:\n    print(\"This album is ok\")",
            "execution_count": 21,
            "outputs": [
                {
                    "output_type": "stream",
                    "text": "This album is ok\n",
                    "name": "stdout"
                }
            ]
        },
        {
            "metadata": {},
            "cell_type": "code",
            "source": "\nalbum_year = 1979\n\nif album_year < 1980 or album_year == 1991 or album_year == 1993:\n    print (\"this album came out already\")\n",
            "execution_count": 23,
            "outputs": [
                {
                    "output_type": "stream",
                    "text": "this album came out already\n",
                    "name": "stdout"
                }
            ]
        }
    ],
    "metadata": {
        "kernelspec": {
            "name": "python3",
            "display_name": "Python 3.6",
            "language": "python"
        },
        "language_info": {
            "name": "python",
            "version": "3.6.9",
            "mimetype": "text/x-python",
            "codemirror_mode": {
                "name": "ipython",
                "version": 3
            },
            "pygments_lexer": "ipython3",
            "nbconvert_exporter": "python",
            "file_extension": ".py"
        }
    },
    "nbformat": 4,
    "nbformat_minor": 1
}