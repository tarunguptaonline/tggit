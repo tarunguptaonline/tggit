{
    "cells": [
        {
            "cell_type": "markdown",
            "metadata": {
                "collapsed": true
            },
            "source": "# My Jupyter Notebook on IBM Watson Studio"
        },
        {
            "cell_type": "markdown",
            "metadata": {},
            "source": "**Tarun Gupta**\n\nProcess Excellence and Digital Transformation Lead"
        },
        {
            "cell_type": "markdown",
            "metadata": {},
            "source": "_I am a keen student of Data Science because this practice area equips me with new age tools for data processing, modeling and creating flows, and enables quick analysis and decision making with large size data._"
        },
        {
            "cell_type": "markdown",
            "metadata": {},
            "source": "### Add two numbers"
        },
        {
            "cell_type": "code",
            "execution_count": 2,
            "metadata": {},
            "outputs": [
                {
                    "data": {
                        "text/plain": "10"
                    },
                    "execution_count": 2,
                    "metadata": {},
                    "output_type": "execute_result"
                }
            ],
            "source": "7+3"
        },
        {
            "cell_type": "markdown",
            "metadata": {},
            "source": "### Here are my other personal details:\n--- \n- **My Alias:** TGMechanic\n\n- **My Passion:** Learning Data Science\n\n- **My Birthday:** 7th September\n\n~~and this last line I will strikethrough~~"
        }
    ],
    "metadata": {
        "kernelspec": {
            "display_name": "Python 3.6",
            "language": "python",
            "name": "python3"
        },
        "language_info": {
            "codemirror_mode": {
                "name": "ipython",
                "version": 3
            },
            "file_extension": ".py",
            "mimetype": "text/x-python",
            "name": "python",
            "nbconvert_exporter": "python",
            "pygments_lexer": "ipython3",
            "version": "3.6.9"
        }
    },
    "nbformat": 4,
    "nbformat_minor": 1
}